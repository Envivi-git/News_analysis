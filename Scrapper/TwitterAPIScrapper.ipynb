{
  "nbformat": 4,
  "nbformat_minor": 0,
  "metadata": {
    "kernelspec": {
      "display_name": "Python 3",
      "language": "python",
      "name": "python3"
    },
    "language_info": {
      "codemirror_mode": {
        "name": "ipython",
        "version": 3
      },
      "file_extension": ".py",
      "mimetype": "text/x-python",
      "name": "python",
      "nbconvert_exporter": "python",
      "pygments_lexer": "ipython3",
      "version": "3.7.3-final"
    },
    "colab": {
      "name": "TwitterAPIScrapper.ipynb",
      "provenance": [],
      "collapsed_sections": []
    }
  },
  "cells": [
    {
      "cell_type": "code",
      "metadata": {
        "id": "Fmzt1f92zf0w"
      },
      "source": [
        "# Import of the necessary libraries\n",
        "import tweepy\n",
        "import json\n",
        "import pandas as pd\n",
        "import datetime\n",
        "\n",
        "# http://docs.tweepy.org/en/latest/api.html"
      ],
      "execution_count": 1,
      "outputs": []
    },
    {
      "cell_type": "markdown",
      "metadata": {
        "id": "n6aBZzBOzf00"
      },
      "source": [
        "We read the api keys from our config json file \n",
        "\n",
        "This is done so we do not expose our keys in github"
      ]
    },
    {
      "cell_type": "code",
      "metadata": {
        "id": "Wbvr3nWVzf01"
      },
      "source": [
        "# Values assigning for the authentication methods     \n",
        "consumer_key = \"oeRyEcKV5Ebfu7vPZVvtTs45H\"\n",
        "consumer_secret = \"LNtBLVDspKep0WJ6XI7fceoT81KpSr3u51BefUUu44tOZ6rawT\"\n",
        "access_token = \"1299838566827274242-vPAr4kIzeFfKXtnPc8TjpbFWAi8TVS\"\n",
        "access_token_secret = \"NH4DvtNlS41YCaq0gsOdSOmqw6PWrvMv76oizYWjuxHCj\""
      ],
      "execution_count": 6,
      "outputs": []
    },
    {
      "cell_type": "markdown",
      "metadata": {
        "id": "BcWESLF4zf03"
      },
      "source": [
        "Run the authentication methods"
      ]
    },
    {
      "cell_type": "code",
      "metadata": {
        "id": "LC9eTSrlzf03"
      },
      "source": [
        "def get_api_connection(consumer_key, consumer_secret, access_token, access_token_secret):\n",
        "  # Setting access tokens\n",
        "  auth = tweepy.OAuthHandler(consumer_key, consumer_secret)\n",
        "  auth.set_access_token(access_token, access_token_secret)\n",
        "\n",
        "  # Create the API object from tweepy\n",
        "  api = tweepy.API(auth, wait_on_rate_limit=True)\n",
        "  return api\n",
        "\n",
        "\n"
      ],
      "execution_count": 43,
      "outputs": []
    },
    {
      "cell_type": "markdown",
      "metadata": {
        "id": "AnjNQsxfzf05"
      },
      "source": [
        "Define functions to handle tweepy objects easily"
      ]
    },
    {
      "cell_type": "code",
      "metadata": {
        "id": "a11MSz2Mzf05"
      },
      "source": [
        "# Given a query, it returns a number of tweet objects\n",
        "# We give a default of 100 but any number could be used\n",
        "def get_tweets_from_query(api, query, number_of_tweets_to_get = 100):\n",
        "    return tweepy.Cursor(api.search, q=query).items(number_of_tweets_to_get)  \n",
        "\n",
        "# Given a tweet obj we return its number of retweets\n",
        "def get_rts_from_tweet(api, tweet):\n",
        "    return api.get_status(tweet.id).retweet_count\n",
        "\n",
        "# Given a tweet obj we return its username\n",
        "def get_user_from_tweet(api, tweet):\n",
        "    return api.get_status(tweet.id).user.screen_name\n",
        "\n",
        "# Given a tweet obj we return its likes/favs number\n",
        "def get_likes_from_tweet(api, tweet):\n",
        "    return api.get_status(tweet.id).favorite_count"
      ],
      "execution_count": 44,
      "outputs": []
    },
    {
      "cell_type": "code",
      "metadata": {
        "id": "PpWiIg2Bzf09"
      },
      "source": [
        "# Class for better analysis with only the needed parameters\n",
        "class Tweet_for_analysis:\n",
        "    text: \"\"\n",
        "    rts: 0\n",
        "    id: 0\n",
        "    user: \"\"\n",
        "    likes: 0\n",
        "    time: datetime.datetime.now\n",
        "\n",
        "    # Constructor\n",
        "    def __init__(self, api, tweetObj):\n",
        "        self.text = tweetObj.text\n",
        "        self.rts =  get_rts_from_tweet(api, tweetObj)\n",
        "        self.id = tweetObj.id\n",
        "        self.user = get_user_from_tweet(api, tweetObj)\n",
        "        self.likes = get_likes_from_tweet(api, tweetObj)\n",
        "        self.time = tweetObj.created_at\n",
        "\n"
      ],
      "execution_count": 45,
      "outputs": []
    },
    {
      "cell_type": "code",
      "metadata": {
        "id": "d-bQFX-C3Vos"
      },
      "source": [
        "# Given the twitter keys, a query and the number of tweets to return\n",
        "# returns a dataset\n",
        "def get_tweet_df_from_query(twitter_consumer_key, \n",
        "                            twitter_consumer_secret, \n",
        "                            twitter_access_token, \n",
        "                            twitter_access_token_secret, \n",
        "                            query, \n",
        "                            n_tweets = 50\n",
        "                            ):\n",
        "  api = get_api_connection(consumer_key,consumer_secret,access_token,access_token_secret)\n",
        "  new_tweet_list = []\n",
        "  tweets_received = get_tweets_from_query(api, query, n_tweets)\n",
        "  for tweet in tweets_received:\n",
        "    new_tweet_to_add = Tweet_for_analysis(api, tweet)\n",
        "    new_tweet_list.append(new_tweet_to_add)\n",
        "  \n",
        "  df = pd.DataFrame(\n",
        "    ([query, tweet.id, tweet.text, tweet.rts, tweet.user, tweet.likes, tweet.time] for tweet in new_tweet_list), \n",
        "    columns = [\"query\", \"tweet_id\",\"text\",\"rt_count\", \"username\", \"likes_count\", \"created_at\"]\n",
        "  )\n",
        "\n",
        "  return df"
      ],
      "execution_count": 46,
      "outputs": []
    },
    {
      "cell_type": "code",
      "metadata": {
        "tags": [],
        "id": "MrqYPq4pzf1B"
      },
      "source": [
        "df_pd = get_tweet_df_from_query(consumer_key,consumer_secret,access_token,access_token_secret,\"policías negacionistas\",5000)"
      ],
      "execution_count": 50,
      "outputs": []
    },
    {
      "cell_type": "code",
      "metadata": {
        "id": "SKtJED38zf1F",
        "outputId": "0d6f8e65-8faf-4bb6-d629-e2aca196ac10",
        "colab": {
          "base_uri": "https://localhost:8080/",
          "height": 204
        }
      },
      "source": [
        "df_pd.tail()"
      ],
      "execution_count": 51,
      "outputs": [
        {
          "output_type": "execute_result",
          "data": {
            "text/html": [
              "<div>\n",
              "<style scoped>\n",
              "    .dataframe tbody tr th:only-of-type {\n",
              "        vertical-align: middle;\n",
              "    }\n",
              "\n",
              "    .dataframe tbody tr th {\n",
              "        vertical-align: top;\n",
              "    }\n",
              "\n",
              "    .dataframe thead th {\n",
              "        text-align: right;\n",
              "    }\n",
              "</style>\n",
              "<table border=\"1\" class=\"dataframe\">\n",
              "  <thead>\n",
              "    <tr style=\"text-align: right;\">\n",
              "      <th></th>\n",
              "      <th>query</th>\n",
              "      <th>tweet_id</th>\n",
              "      <th>text</th>\n",
              "      <th>rt_count</th>\n",
              "      <th>username</th>\n",
              "      <th>likes_count</th>\n",
              "      <th>created_at</th>\n",
              "    </tr>\n",
              "  </thead>\n",
              "  <tbody>\n",
              "    <tr>\n",
              "      <th>2261</th>\n",
              "      <td>policías negacionistas</td>\n",
              "      <td>1321577469326041088</td>\n",
              "      <td>Policías locales amonestando a ciudadanos \"por...</td>\n",
              "      <td>6</td>\n",
              "      <td>Hipogresia155</td>\n",
              "      <td>10</td>\n",
              "      <td>2020-10-28 22:19:57</td>\n",
              "    </tr>\n",
              "    <tr>\n",
              "      <th>2262</th>\n",
              "      <td>policías negacionistas</td>\n",
              "      <td>1321154506994950145</td>\n",
              "      <td>RT @gonzo_blogger: ÚLTIMA HORA URGENTE: Los ca...</td>\n",
              "      <td>131</td>\n",
              "      <td>Negacionistas</td>\n",
              "      <td>0</td>\n",
              "      <td>2020-10-27 18:19:14</td>\n",
              "    </tr>\n",
              "    <tr>\n",
              "      <th>2263</th>\n",
              "      <td>policías negacionistas</td>\n",
              "      <td>1320817403182391297</td>\n",
              "      <td>@JuanCLongas El momento en que se toman las me...</td>\n",
              "      <td>0</td>\n",
              "      <td>Naburro4</td>\n",
              "      <td>2</td>\n",
              "      <td>2020-10-26 19:59:43</td>\n",
              "    </tr>\n",
              "    <tr>\n",
              "      <th>2264</th>\n",
              "      <td>policías negacionistas</td>\n",
              "      <td>1320710074541740032</td>\n",
              "      <td>RT @_fransua: varias comunidades autonomas com...</td>\n",
              "      <td>1</td>\n",
              "      <td>platini511</td>\n",
              "      <td>0</td>\n",
              "      <td>2020-10-26 12:53:14</td>\n",
              "    </tr>\n",
              "    <tr>\n",
              "      <th>2265</th>\n",
              "      <td>policías negacionistas</td>\n",
              "      <td>1320708713662062594</td>\n",
              "      <td>varias comunidades autonomas como Catalunya; A...</td>\n",
              "      <td>1</td>\n",
              "      <td>_fransua</td>\n",
              "      <td>3</td>\n",
              "      <td>2020-10-26 12:47:49</td>\n",
              "    </tr>\n",
              "  </tbody>\n",
              "</table>\n",
              "</div>"
            ],
            "text/plain": [
              "                       query  ...          created_at\n",
              "2261  policías negacionistas  ... 2020-10-28 22:19:57\n",
              "2262  policías negacionistas  ... 2020-10-27 18:19:14\n",
              "2263  policías negacionistas  ... 2020-10-26 19:59:43\n",
              "2264  policías negacionistas  ... 2020-10-26 12:53:14\n",
              "2265  policías negacionistas  ... 2020-10-26 12:47:49\n",
              "\n",
              "[5 rows x 7 columns]"
            ]
          },
          "metadata": {
            "tags": []
          },
          "execution_count": 51
        }
      ]
    },
    {
      "cell_type": "markdown",
      "metadata": {
        "id": "WYinQU4Pzuxo"
      },
      "source": [
        "Save data"
      ]
    },
    {
      "cell_type": "code",
      "metadata": {
        "id": "zY3SvTlNzw6a"
      },
      "source": [
        "#Create an appropiate folder\n",
        "\n",
        "hora_madrid_delta = 2\n",
        "\n",
        "anadir_hora = datetime.timedelta(hours = hora_madrid_delta)\n",
        "\n",
        "now = datetime.datetime.now()\n",
        "now = now+anadir_hora#local time\n",
        "now= now.strftime(\"%d_%m_%Y__%Hh_%Mm_%Ss\")\n",
        "now_hour=now[:15]\n",
        "\n",
        "\n",
        "import os\n",
        "\n",
        "path = \"/content/drive/My Drive/Colab Notebooks/UOC_B/twitter_tweets_policias_negacionistas_\"+str(now_hour)\n",
        "\n",
        "if not os.path.exists(path):\n",
        "    os.makedirs(path)\n",
        "\n",
        "#Write dataframe to csv\n",
        "df_pd.to_csv(path+\"/twitter_tweets_\"+str(now)+\".csv\", index = False)"
      ],
      "execution_count": 49,
      "outputs": []
    }
  ]
}